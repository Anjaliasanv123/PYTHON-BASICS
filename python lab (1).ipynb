{
 "cells": [
  {
   "cell_type": "code",
   "execution_count": 1,
   "id": "bc000388",
   "metadata": {},
   "outputs": [
    {
     "data": {
      "text/plain": [
       "int"
      ]
     },
     "execution_count": 1,
     "metadata": {},
     "output_type": "execute_result"
    }
   ],
   "source": [
    "s=\"This is a string\"\n",
    "a=2\n",
    "b=7.9\n",
    "type(a)"
   ]
  },
  {
   "cell_type": "code",
   "execution_count": 2,
   "id": "99161a2b",
   "metadata": {},
   "outputs": [
    {
     "data": {
      "text/plain": [
       "str"
      ]
     },
     "execution_count": 2,
     "metadata": {},
     "output_type": "execute_result"
    }
   ],
   "source": [
    "type(s)"
   ]
  },
  {
   "cell_type": "code",
   "execution_count": 3,
   "id": "5c33285c",
   "metadata": {},
   "outputs": [
    {
     "name": "stdout",
     "output_type": "stream",
     "text": [
      "Enter the value kg:56\n",
      "123.45760000000001\n"
     ]
    }
   ],
   "source": [
    "kg=float(input(\"Enter the value kg:\"))\n",
    "lbs=kg*2.2046\n",
    "print(lbs)"
   ]
  },
  {
   "cell_type": "code",
   "execution_count": 6,
   "id": "82cec1fb",
   "metadata": {
    "scrolled": true
   },
   "outputs": [
    {
     "name": "stdout",
     "output_type": "stream",
     "text": [
      "The circumference of a circle:6\n",
      "the cell 31.400000000000002 return the circumference\n"
     ]
    }
   ],
   "source": [
    "a=int(input(\"The circumference of a circle:\"))\n",
    "pi=3.14\n",
    "r=5\n",
    "a=2*pi*r\n",
    "print(f\"the cell {a} return the circumference\")"
   ]
  },
  {
   "cell_type": "code",
   "execution_count": 6,
   "id": "4f54203e",
   "metadata": {
    "scrolled": true
   },
   "outputs": [
    {
     "name": "stdout",
     "output_type": "stream",
     "text": [
      "2\n"
     ]
    }
   ],
   "source": [
    "a=5\n",
    "b=a*3\n",
    "c=b+6\n",
    "d=c//3\n",
    "e=d-a\n",
    "print(e)"
   ]
  },
  {
   "cell_type": "code",
   "execution_count": 9,
   "id": "3974373f",
   "metadata": {},
   "outputs": [
    {
     "name": "stdout",
     "output_type": "stream",
     "text": [
      "Enter the value a:2\n",
      "Enter the value b:4\n",
      "8\n"
     ]
    }
   ],
   "source": [
    "a=int(input(\"Enter the value a:\"))\n",
    "b=int(input(\"Enter the value b:\"))\n",
    "c=a*b\n",
    "print(c)"
   ]
  },
  {
   "cell_type": "code",
   "execution_count": null,
   "id": "099c2cad",
   "metadata": {},
   "outputs": [],
   "source": []
  },
  {
   "cell_type": "code",
   "execution_count": null,
   "id": "2a055d56",
   "metadata": {},
   "outputs": [],
   "source": []
  },
  {
   "cell_type": "code",
   "execution_count": 11,
   "id": "c2039d3f",
   "metadata": {},
   "outputs": [
    {
     "name": "stdout",
     "output_type": "stream",
     "text": [
      "How many years:21\n",
      "1years,8760hours,525600minutes,31536000seconds\n"
     ]
    }
   ],
   "source": [
    "a=int(input(\"How many years:\"))\n",
    "years=1\n",
    "days=365\n",
    "hours=days*24\n",
    "minutes=hours*60\n",
    "seconds=minutes*60\n",
    "print(f\"{years}years,{hours}hours,{minutes}minutes,{seconds}seconds\")"
   ]
  },
  {
   "cell_type": "code",
   "execution_count": 12,
   "id": "5e1a84db",
   "metadata": {},
   "outputs": [
    {
     "name": "stdout",
     "output_type": "stream",
     "text": [
      "Enter a value:5\n",
      "Enter the percentage wants to tip10\n",
      "total tip0\n"
     ]
    }
   ],
   "source": [
    "price=int(input(\"Enter a value:\"))\n",
    "percentage=int(input(\"Enter the percentage wants to tip\"))\n",
    "tip=price*percentage//100\n",
    "print(f\"total tip{tip}\")"
   ]
  },
  {
   "cell_type": "code",
   "execution_count": 13,
   "id": "eb2b2105",
   "metadata": {},
   "outputs": [
    {
     "ename": "SyntaxError",
     "evalue": "cannot assign to False (3195425754.py, line 1)",
     "output_type": "error",
     "traceback": [
      "\u001b[1;36m  File \u001b[1;32m\"C:\\Users\\T460s\\AppData\\Local\\Temp\\ipykernel_3556\\3195425754.py\"\u001b[1;36m, line \u001b[1;32m1\u001b[0m\n\u001b[1;33m    False =5\u001b[0m\n\u001b[1;37m    ^\u001b[0m\n\u001b[1;31mSyntaxError\u001b[0m\u001b[1;31m:\u001b[0m cannot assign to False\n"
     ]
    }
   ],
   "source": [
    "False =5\n",
    "print(False)"
   ]
  },
  {
   "cell_type": "code",
   "execution_count": 4,
   "id": "70b05bfc",
   "metadata": {},
   "outputs": [
    {
     "name": "stdout",
     "output_type": "stream",
     "text": [
      "how many hours:7\n",
      "the cost:4\n",
      "the gross pay is: 28.0\n"
     ]
    }
   ],
   "source": [
    "#write a program to prompt\n",
    "a=float(input(\"how many hours:\"))\n",
    "-b=float(input(\"the cost:\"))\n",
    "d=a*b\n",
    "print(f'the gross pay is:',d)"
   ]
  },
  {
   "cell_type": "code",
   "execution_count": 15,
   "id": "843678a8",
   "metadata": {},
   "outputs": [
    {
     "name": "stdout",
     "output_type": "stream",
     "text": [
      "Enter hours:45\n",
      "enter Rate:10\n"
     ]
    },
    {
     "ename": "NameError",
     "evalue": "name 'price' is not defined",
     "output_type": "error",
     "traceback": [
      "\u001b[1;31m---------------------------------------------------------------------------\u001b[0m",
      "\u001b[1;31mNameError\u001b[0m                                 Traceback (most recent call last)",
      "\u001b[1;32m~\\AppData\\Local\\Temp\\ipykernel_15688\\3469438269.py\u001b[0m in \u001b[0;36m<module>\u001b[1;34m\u001b[0m\n\u001b[0;32m      2\u001b[0m \u001b[0mb\u001b[0m\u001b[1;33m=\u001b[0m\u001b[0mint\u001b[0m\u001b[1;33m(\u001b[0m\u001b[0minput\u001b[0m\u001b[1;33m(\u001b[0m\u001b[1;34m\"enter Rate:\"\u001b[0m\u001b[1;33m)\u001b[0m\u001b[1;33m)\u001b[0m\u001b[1;33m\u001b[0m\u001b[1;33m\u001b[0m\u001b[0m\n\u001b[0;32m      3\u001b[0m \u001b[0mtime\u001b[0m\u001b[1;33m=\u001b[0m\u001b[0ma\u001b[0m\u001b[1;33m-\u001b[0m\u001b[1;36m40\u001b[0m\u001b[1;33m\u001b[0m\u001b[1;33m\u001b[0m\u001b[0m\n\u001b[1;32m----> 4\u001b[1;33m \u001b[0mgpay\u001b[0m\u001b[1;33m=\u001b[0m\u001b[1;36m40\u001b[0m\u001b[1;33m*\u001b[0m\u001b[0mb\u001b[0m\u001b[1;33m+\u001b[0m\u001b[1;33m(\u001b[0m\u001b[0mtime\u001b[0m\u001b[1;33m*\u001b[0m\u001b[1;33m(\u001b[0m\u001b[0mprice\u001b[0m\u001b[1;33m*\u001b[0m\u001b[1;36m1.5\u001b[0m\u001b[1;33m)\u001b[0m\u001b[1;33m)\u001b[0m\u001b[1;33m\u001b[0m\u001b[1;33m\u001b[0m\u001b[0m\n\u001b[0m\u001b[0;32m      5\u001b[0m \u001b[1;32mif\u001b[0m \u001b[0ma\u001b[0m\u001b[1;33m>\u001b[0m\u001b[1;36m40\u001b[0m\u001b[1;33m:\u001b[0m\u001b[1;33m\u001b[0m\u001b[1;33m\u001b[0m\u001b[0m\n\u001b[0;32m      6\u001b[0m    \u001b[0mprint\u001b[0m\u001b[1;33m(\u001b[0m\u001b[1;34m\"The result is:\"\u001b[0m\u001b[1;33m,\u001b[0m\u001b[0mgpay\u001b[0m\u001b[1;33m)\u001b[0m\u001b[1;33m\u001b[0m\u001b[1;33m\u001b[0m\u001b[0m\n",
      "\u001b[1;31mNameError\u001b[0m: name 'price' is not defined"
     ]
    }
   ],
   "source": [
    "a=int(input(\"Enter hours:\"))\n",
    "b=int(input(\"enter Rate:\"))\n",
    "time=a-40\n",
    "gpay=40*b+(time*(price*1.5))\n",
    "if ahttp://localhost:8888/notebooks/python%20lab.ipynb#>40:\n",
    "   print(\"The result is:\",gpay)\n",
    "else:\n",
    "    print(\"The block\")"
   ]
  },
  {
   "cell_type": "markdown",
   "id": "6bc1625d",
   "metadata": {},
   "source": [
    "#findin the largest value\n",
    "small_num=45\n",
    "print(\"before\",small_value)\n",
    "for the_num in[2,4,6,4,8]:\n",
    "if the_num<small_num:\n",
    "   small_num=the_num\n",
    "   print(\n",
    "  "
   ]
  },
  {
   "cell_type": "code",
   "execution_count": null,
   "id": "6bce9f1a",
   "metadata": {},
   "outputs": [],
   "source": [
    "#project- car Ensurance\n",
    "market_price=int(input(\"Enter market_price:\"))\n",
    "gender=input(\"enter gender\")\n",
    "if(gender==\"male\"):\n",
    "    if age<=26:\n",
    "        age=int(input(\"Enter the age:\"))\n",
    "        print(f\"ensurance_price=={market_price*0.23}\")\n",
    "elif age>26:\n",
    "    print(f\"ensurance_price=={market_price*0.9}\")\n",
    "if(gender==\"female\"):\n",
    "    print(f\"ensurance_price=={market_price*21}\")\n",
    "if(market_price%10):\n",
    "    print(\"non_sports car\")\n",
    "\n"
   ]
  },
  {
   "cell_type": "code",
   "execution_count": null,
   "id": "1c49afb9",
   "metadata": {},
   "outputs": [],
   "source": [
    "for thing in[4,5,6,7,8,9]:\n",
    "    sum=thing+1\n",
    "    print(sum)"
   ]
  },
  {
   "cell_type": "code",
   "execution_count": null,
   "id": "1b98a73b",
   "metadata": {},
   "outputs": [],
   "source": [
    "for thing in[4,5,6,7,8,9]:\n",
    "    sum=thing+1\n",
    "    print(sum)"
   ]
  },
  {
   "cell_type": "code",
   "execution_count": null,
   "id": "fb202699",
   "metadata": {},
   "outputs": [],
   "source": [
    "def great(lang):\n",
    "    if\n"
   ]
  },
  {
   "cell_type": "code",
   "execution_count": null,
   "id": "e3d084ec",
   "metadata": {},
   "outputs": [],
   "source": [
    "def computepay(hour,rate):\n",
    "    if hour>40:\n",
    "       print(f'pay is:{hour*10+(hour-40)*1.5*rate}')\n",
    "    else:\n",
    "       print(f'pay is:{40*rate}')\n",
    "hour=int(input(\"enter the hour :\"))\n",
    "rate=int(input(\"enter the rate :\"))\n",
    "computepay(hour,rate)"
   ]
  },
  {
   "cell_type": "code",
   "execution_count": null,
   "id": "19b85037",
   "metadata": {},
   "outputs": [],
   "source": [
    "import random\n",
    "list=[\"string\",\"word\",\"null\"]\n",
    "list=random.choice(list)\n",
    "print (list)\n",
    "jumbled=random.sample(list, len(list))\n",
    "print(f\"The jumbled list is {jumbled}\")\n",
    "guess=input(\"Type the guessed word: \")\n",
    "if guess==word\n",
    "\n"
   ]
  },
  {
   "cell_type": "code",
   "execution_count": null,
   "id": "a9575c23",
   "metadata": {},
   "outputs": [],
   "source": [
    "def fibonacci_with_list(n):\n",
    "    fib_series = [0, 1]\n",
    "    for i in range(2, n):\n",
    "        fib_series.append(fib_series[-1] + fib_series[-2])\n",
    "    return fib_series\n",
    " \n",
    "n = 10\n",
    "n=int(input(\"Enter the number: \"))\n",
    "result = fibonacci_with_list(n)\n",
    "print(f\"Fibonacci series with {n} elements:\", result)"
   ]
  },
  {
   "cell_type": "markdown",
   "id": "8f307e31",
   "metadata": {},
   "source": []
  },
  {
   "cell_type": "code",
   "execution_count": 5,
   "id": "1246c585",
   "metadata": {},
   "outputs": [
    {
     "name": "stdout",
     "output_type": "stream",
     "text": [
      "enter our choice for rock:1, paper:2, scissor:3 \n",
      "enter a choice:1\n",
      "computer_choice is: 2\n",
      "won the game\n"
     ]
    }
   ],
   "source": [
    "import random\n",
    "print(\"enter our choice for rock:1, paper:2, scissor:3 \")\n",
    "choice=int(input(\"enter a choice:\"))\n",
    "computer_choice=random.randint(1,3)\n",
    "while computer_choice==choice:\n",
    "    computer_choice=random.randint(1,3)\n",
    "print(\"computer_choice is:\",computer_choice)\n",
    "if (choice==1 and computer_choice==2):\n",
    "    print(\"won the game\")\n",
    "elif(choice==1 and computer_choice==3):\n",
    "    print(\"won the game\")\n",
    "elif(choice==2 and computer_choice==1):\n",
    "    print(\"won the game\")\n",
    "elif(choice==2 and computer_choice==3):\n",
    "    print(\" computer won the game\")\n",
    "elif(choice==3 and computer_choice==1):\n",
    "    print(\" computer won the game \")"
   ]
  },
  {
   "cell_type": "code",
   "execution_count": 8,
   "id": "36d553d7",
   "metadata": {},
   "outputs": [
    {
     "ename": "NameError",
     "evalue": "name 'banana' is not defined",
     "output_type": "error",
     "traceback": [
      "\u001b[1;31m---------------------------------------------------------------------------\u001b[0m",
      "\u001b[1;31mNameError\u001b[0m                                 Traceback (most recent call last)",
      "\u001b[1;32m~\\AppData\\Local\\Temp\\ipykernel_16112\\4061356057.py\u001b[0m in \u001b[0;36m<module>\u001b[1;34m\u001b[0m\n\u001b[1;32m----> 1\u001b[1;33m \u001b[0mfruit\u001b[0m\u001b[1;33m=\u001b[0m\u001b[0mbanana\u001b[0m\u001b[1;33m\u001b[0m\u001b[1;33m\u001b[0m\u001b[0m\n\u001b[0m\u001b[0;32m      2\u001b[0m \u001b[1;32mfor\u001b[0m \u001b[0mi\u001b[0m \u001b[1;32min\u001b[0m \u001b[0mfruit\u001b[0m\u001b[1;33m:\u001b[0m\u001b[1;33m\u001b[0m\u001b[1;33m\u001b[0m\u001b[0m\n\u001b[0;32m      3\u001b[0m     \u001b[0mprint\u001b[0m\u001b[1;33m(\u001b[0m\u001b[0mi\u001b[0m\u001b[1;33m,\u001b[0m \u001b[0mend\u001b[0m \u001b[1;33m=\u001b[0m \u001b[1;34m\" \"\u001b[0m\u001b[1;33m)\u001b[0m\u001b[1;33m\u001b[0m\u001b[1;33m\u001b[0m\u001b[0m\n",
      "\u001b[1;31mNameError\u001b[0m: name 'banana' is not defined"
     ]
    }
   ],
   "source": [
    "fruit=banana\n",
    "for i in fruit:\n",
    "    print(i, end = \" \")"
   ]
  },
  {
   "cell_type": "code",
   "execution_count": 9,
   "id": "554c8f5e",
   "metadata": {},
   "outputs": [
    {
     "name": "stdout",
     "output_type": "stream",
     "text": [
      "54\n"
     ]
    }
   ],
   "source": [
    "str1=\"From stephen.marquad@uct.ac.za Sat Jan 5 09:14:16 2008\"\n",
    "print(len(str1))"
   ]
  },
  {
   "cell_type": "code",
   "execution_count": 11,
   "id": "a96da2f5",
   "metadata": {},
   "outputs": [
    {
     "name": "stdout",
     "output_type": "stream",
     "text": [
      "@uct.ac.za Sat Jan 5 09:14:16 2008\n"
     ]
    }
   ],
   "source": [
    "print(str1[20:])"
   ]
  },
  {
   "cell_type": "code",
   "execution_count": 15,
   "id": "7065aded",
   "metadata": {},
   "outputs": [
    {
     "name": "stdout",
     "output_type": "stream",
     "text": [
      "['From stephen.marquad@uct.ac.za Sat Jan 5 09:14:16 2008']\n"
     ]
    }
   ],
   "source": [
    "print(str1.split(\",\"))"
   ]
  },
  {
   "cell_type": "code",
   "execution_count": 18,
   "id": "d3d276ab",
   "metadata": {},
   "outputs": [
    {
     "name": "stdout",
     "output_type": "stream",
     "text": [
      "<built-in method partition of str object at 0x00000127AC566650>\n"
     ]
    }
   ],
   "source": [
    "ema"
   ]
  },
  {
   "cell_type": "code",
   "execution_count": 7,
   "id": "337b441b",
   "metadata": {},
   "outputs": [
    {
     "name": "stdout",
     "output_type": "stream",
     "text": [
      "(12, 3, 5, 7)\n"
     ]
    }
   ],
   "source": [
    "a=(12,3,5,7)\n",
    "print(a)"
   ]
  },
  {
   "cell_type": "code",
   "execution_count": 8,
   "id": "c74682cd",
   "metadata": {},
   "outputs": [
    {
     "data": {
      "text/plain": [
       "tuple"
      ]
     },
     "execution_count": 8,
     "metadata": {},
     "output_type": "execute_result"
    }
   ],
   "source": [
    "type(a)"
   ]
  },
  {
   "cell_type": "code",
   "execution_count": 12,
   "id": "a8721916",
   "metadata": {},
   "outputs": [
    {
     "name": "stdout",
     "output_type": "stream",
     "text": [
      "7\n"
     ]
    }
   ],
   "source": [
    "print(a[-1])"
   ]
  },
  {
   "cell_type": "code",
   "execution_count": 13,
   "id": "9d5daab5",
   "metadata": {},
   "outputs": [
    {
     "name": "stdout",
     "output_type": "stream",
     "text": [
      "(12, 3, 5, 7, 12, 3, 5, 7, 12, 3, 5, 7, 12, 3, 5, 7, 12, 3, 5, 7, 12, 3, 5, 7, 12, 3, 5, 7)\n"
     ]
    }
   ],
   "source": [
    "print(a*7)"
   ]
  },
  {
   "cell_type": "code",
   "execution_count": 18,
   "id": "ab7840bc",
   "metadata": {},
   "outputs": [
    {
     "name": "stdout",
     "output_type": "stream",
     "text": [
      "Tuple elements: 1,2,3,3\n",
      "(12, 3, 5, 7)\n"
     ]
    }
   ],
   "source": [
    "#Tuple elements=1,2,3,4,5\n",
    "tup=tuple(input(\"Tuple elements: \").split(','))\n",
    "print(a)"
   ]
  },
  {
   "cell_type": "code",
   "execution_count": null,
   "id": "4da91f35",
   "metadata": {},
   "outputs": [],
   "source": [
    "list=int(input(\"enter numbers in list:\").split(\" \"))\n"
   ]
  },
  {
   "cell_type": "code",
   "execution_count": 2,
   "id": "1372c7be",
   "metadata": {},
   "outputs": [
    {
     "ename": "TypeError",
     "evalue": "'type' object is not iterable",
     "output_type": "error",
     "traceback": [
      "\u001b[1;31m---------------------------------------------------------------------------\u001b[0m",
      "\u001b[1;31mTypeError\u001b[0m                                 Traceback (most recent call last)",
      "\u001b[1;32m~\\AppData\\Local\\Temp\\ipykernel_1668\\3409737841.py\u001b[0m in \u001b[0;36m<module>\u001b[1;34m\u001b[0m\n\u001b[1;32m----> 1\u001b[1;33m \u001b[0mlist\u001b[0m\u001b[1;33m=\u001b[0m\u001b[0mtuple\u001b[0m\u001b[1;33m(\u001b[0m\u001b[0mlist\u001b[0m\u001b[1;33m)\u001b[0m\u001b[1;33m\u001b[0m\u001b[1;33m\u001b[0m\u001b[0m\n\u001b[0m",
      "\u001b[1;31mTypeError\u001b[0m: 'type' object is not iterable"
     ]
    }
   ],
   "source": [
    "list=tuple(list)\n"
   ]
  },
  {
   "cell_type": "code",
   "execution_count": 3,
   "id": "681fd548",
   "metadata": {},
   "outputs": [
    {
     "data": {
      "text/plain": [
       "type"
      ]
     },
     "execution_count": 3,
     "metadata": {},
     "output_type": "execute_result"
    }
   ],
   "source": [
    "type(list)\n"
   ]
  },
  {
   "cell_type": "code",
   "execution_count": 1,
   "id": "33c95db0",
   "metadata": {},
   "outputs": [
    {
     "name": "stdout",
     "output_type": "stream",
     "text": [
      "Enter your name:Anja;li\n",
      "Anja;li\n",
      "35000\n"
     ]
    }
   ],
   "source": [
    "class Employee:\n",
    "    pass\n",
    "#create instance of the class\n",
    "emp_1=Employee()\n",
    "#take input\n",
    "name=input(\"Enter your name:\")\n",
    "#Assign name to the first instance\n",
    "emp_1.name=name\n",
    "#Assign salary o the first instance\n",
    "emp_1.salary=35000\n",
    "#print\n",
    "print(emp_1.name)\n",
    "print(emp_1.salary)\n"
   ]
  },
  {
   "cell_type": "code",
   "execution_count": 2,
   "id": "a0007182",
   "metadata": {},
   "outputs": [
    {
     "data": {
      "text/plain": [
       "__main__.Employee"
      ]
     },
     "execution_count": 2,
     "metadata": {},
     "output_type": "execute_result"
    }
   ],
   "source": [
    "type(emp_1)"
   ]
  },
  {
   "cell_type": "markdown",
   "id": "fd2cd834",
   "metadata": {},
   "source": [
    "#self \n",
    "class Manager:\n",
    "      def__init__(self,name,department, salary):\n",
    "      self.name=name\n",
    "      self.department=department=department\n",
    "      self.salary=salary\n",
    "name=input(\"Enter your name:\")\n",
    "department=input(\"Enter department name:\")\n",
    "salary=int(input(\"Enter salary:\")\n",
    "manager_1=Manager(name,department,salary)\n",
    "print(manager_1.name)\n",
    "print(manager_1.department)\n",
    "print(manager_1.salary)"
   ]
  },
  {
   "cell_type": "code",
   "execution_count": 6,
   "id": "c46834e0",
   "metadata": {},
   "outputs": [
    {
     "name": "stdout",
     "output_type": "stream",
     "text": [
      "Enter car name: fjug\n",
      "Name of the car is:  fjug\n"
     ]
    }
   ],
   "source": [
    "class car:\n",
    "    def setname(self,name):\n",
    "        self.name=name\n",
    "    def getName(self):\n",
    "            return self.name\n",
    "\n",
    "Honda=car()\n",
    "carname=input(\"Enter car name: \")\n",
    "Honda.setname(carname)\n",
    "print(\"Name of the car is: \",Honda.getName())"
   ]
  },
  {
   "cell_type": "code",
   "execution_count": 11,
   "id": "dc4f6068",
   "metadata": {},
   "outputs": [
    {
     "name": "stdout",
     "output_type": "stream",
     "text": [
      "Enter the name: asanv\n",
      "Enter aage:21\n",
      "asanv\n",
      "21\n",
      "Enter the name: lucky\n",
      "Enter aage:16\n",
      "lucky\n",
      "16\n"
     ]
    }
   ],
   "source": [
    "class student:\n",
    "    def __init__(self,name,age):\n",
    "        self.name=name\n",
    "        self.age=age\n",
    "        \n",
    "name=input(\"Enter the name: \")\n",
    "age=int(input(\"Enter aage:\"))\n",
    "student1=student(name,age)\n",
    "print(student1.name)\n",
    "print(student1.age)\n",
    "name=input(\"Enter the name: \")\n",
    "age=int(input(\"Enter aage:\"))\n",
    "student2=student(name,age)\n",
    "print(student2.name)\n",
    "print(student2.age)"
   ]
  },
  {
   "cell_type": "markdown",
   "id": "8219c547",
   "metadata": {},
   "source": [
    "class birtday:\n",
    "    def __init__(self,currentyear,yourbirthday,your_sibiling_birth_year):\n",
    "        self_current_year=current_year\n",
    "        self.your_birthday=your_birthday\n",
    "        self.your_sibiling_birth_year=your_sibiling_birth_year\n",
    "    def agegap(self):\n",
    "        return abs(self.yourbirthday-self.your_sibling_birth_year)\n",
    "currentyear=int(input(\"Enter currentyear:\"))\n",
    "yourbirthday=int(input(\"Enter birthday:\"))\n",
    "your_sibling_birth_year=int(input(\"Enter sibling birth year:\"))\n",
    "\n",
    "birtday_boy=birtday(currentyear, yourbirthday, your_sibling_birth_year)\n",
    "\n",
    "print(\"The gae gap between you and your sibling:\",birthday_boy.agegap(),\"year.\")\n",
    "\n",
    "    \n",
    "        \n",
    "        "
   ]
  },
  {
   "cell_type": "code",
   "execution_count": null,
   "id": "5d07a403",
   "metadata": {},
   "outputs": [],
   "source": [
    "class birtday:\n",
    "    def __init__(self,currentyear,yourbirthday,your_sibiling_birth_year): \n",
    "        self_current_year=current_year \n",
    "        self.your_birthday=your_birthday \n",
    "        self.your_sibiling_birth_year=your_sibiling_birth_year\n",
    "        \n",
    "        def age_gap(self):\n",
    "            return abs(self.yourbirthday-self.your_sibling_birth_year) \n",
    "currentyear=int(input(\"Enter currentyear:\"))\n",
    "yourbirthday=int(input(\"Enter birthday:\"))\n",
    "your_sibling_birth_year=int(input(\"Enter sibling birth year:\"))\n",
    "\n",
    "birtday_boy=birtday(currentyear, yourbirthday, your_sibling_birth_year)\n",
    "\n",
    "print(\"The gae gap between you and your sibling:\",birthday_boy.agegap(),\"year.\")"
   ]
  },
  {
   "cell_type": "code",
   "execution_count": null,
   "id": "6b7966f3",
   "metadata": {},
   "outputs": [],
   "source": [
    "class point\n",
    "    def __init__(self,x1,y1,x2,y2):\n",
    "    self.x1=x1\n",
    "    self.y1=y1\n",
    "    self.x2=x2\n",
    "    self.y2=y2\n",
    "    def slope(self):\n",
    "        print(y2-y1,x2-x1)\n",
    "x1=int(input(\"Enter the x1:\"))\n",
    "y1=int(input(\"Enter the y1:\"))\n",
    "x2=int(input(\"Enter the x2:\"))\n",
    "y2=int(input(\"Enter the y2:\"))\n",
    "\n",
    "point(x1,y1,x2,y2)\n",
    "print(\"Enter the slope of line:\",round(point.slope(),2))\n"
   ]
  },
  {
   "cell_type": "code",
   "execution_count": null,
   "id": "2a520e1a",
   "metadata": {},
   "outputs": [],
   "source": [
    "class Greeting:\n",
    "    def sayHello(self,name=None,wish=None):\n",
    "        if name is not None and wish is not None:\n",
    "            print(\"Hello\"+name+wish)\n",
    "        elif name is not None and wish is None:\n",
    "            print(\"Hello\"+\" \"+name)\n",
    "        else:\n",
    "            print(\"Hello\")\n",
    "greet = Greeting()\n",
    "a=input()\n",
    "b=input()\n",
    "greet.sayHello(a)\n",
    "greet.sayHello(a,b)\n",
    "greet.sayHello()"
   ]
  },
  {
   "cell_type": "code",
   "execution_count": null,
   "id": "b835e6d7",
   "metadata": {},
   "outputs": [],
   "source": [
    "class Shoppingcart:\n",
    "    def __init__(self):\n",
    "        self.cart={}\n",
    "        def class ShoppingCart:\n",
    "    def add_item(self,item_name,price,quantity=1):\n",
    "        if item_name in self.cart:\n",
    "            self.cart[item_name]['quantity']+=quantity\n",
    "        else:\n",
    "            self.cart[item_name]={'price': price, 'quantity': quantity}\n",
    "        print(f\"Added {quantity} of {item_name} to the cart:\")\n",
    "    def remove_item(self, item_name):\n",
    "        for cart_item in self.items:\n",
    "            if cart_item.name == item_name:\n",
    "                self.items.remove(cart_item)\n",
    "                print(f\"Removed {item_name} from the cart.\")\n",
    "                return\n",
    "        print(f\"Item {item_name} not found in the cart.\")\n",
    "    def get_total_price(self):\n",
    "        total = sum(item.price * item.quantity for item in self.items)\n",
    "        return total\n",
    "\n",
    "    def display_cart(self):\n",
    "        if not self.items:\n",
    "            print(\"Your cart is empty.\")\n",
    "        else:\n",
    "            print(\"Your shopping cart contains:\")\n",
    "            for item in self.items:\n",
    "                print(f\"{item.name} - ${item.price} x {item.quantity}\")\n",
    "            print(f\"Total Price: ${self.get_total_price():.2f}\")\n",
    "\n",
    "            \n",
    "        \n",
    "    \n",
    "    \n",
    "    "
   ]
  },
  {
   "cell_type": "code",
   "execution_count": null,
   "id": "314f0f77",
   "metadata": {},
   "outputs": [],
   "source": []
  }
 ],
 "metadata": {
  "kernelspec": {
   "display_name": "Python 3 (ipykernel)",
   "language": "python",
   "name": "python3"
  },
  "language_info": {
   "codemirror_mode": {
    "name": "ipython",
    "version": 3
   },
   "file_extension": ".py",
   "mimetype": "text/x-python",
   "name": "python",
   "nbconvert_exporter": "python",
   "pygments_lexer": "ipython3",
   "version": "3.9.13"
  }
 },
 "nbformat": 4,
 "nbformat_minor": 5
}
