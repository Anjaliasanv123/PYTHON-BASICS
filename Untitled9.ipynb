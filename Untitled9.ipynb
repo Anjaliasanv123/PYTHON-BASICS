{
 "cells": [
  {
   "cell_type": "code",
   "execution_count": 3,
   "id": "48d1fe6f",
   "metadata": {},
   "outputs": [
    {
     "name": "stdout",
     "output_type": "stream",
     "text": [
      "Enter number(1):4\n",
      "Enter number(2):6\n",
      "0.6666666666666666\n"
     ]
    }
   ],
   "source": [
    "try:\n",
    "    a=int(input(\"Enter number(1):\"))\n",
    "    b=int(input(\"Enter number(2):\"))\n",
    "    div=a/b\n",
    "    print(div)\n",
    "except:\n",
    "     print(\"kindly enter non zero value b\")"
   ]
  },
  {
   "cell_type": "code",
   "execution_count": 4,
   "id": "0f4bbaa4",
   "metadata": {},
   "outputs": [
    {
     "name": "stdout",
     "output_type": "stream",
     "text": [
      "Enter number(1):4\n",
      "Enter number(2):7\n",
      "0.5714285714285714\n"
     ]
    }
   ],
   "source": [
    "try:\n",
    "    a=int(input(\"Enter number(1):\"))\n",
    "    b=int(input(\"Enter number(2):\"))\n",
    "    div=a/b\n",
    "    print(div)\n",
    "except ZeroDivisionError:\n",
    "     print(\"kindly enter non zero value b\")\n",
    "except ValueError:\n",
    "    print(\"Invalid input kindly enter integer value\")\n",
    "    "
   ]
  },
  {
   "cell_type": "code",
   "execution_count": 5,
   "id": "d3c1b71f",
   "metadata": {},
   "outputs": [
    {
     "ename": "SyntaxError",
     "evalue": "invalid syntax (687876495.py, line 1)",
     "output_type": "error",
     "traceback": [
      "\u001b[1;36m  File \u001b[1;32m\"C:\\Users\\T460s\\AppData\\Local\\Temp\\ipykernel_8308\\687876495.py\"\u001b[1;36m, line \u001b[1;32m1\u001b[0m\n\u001b[1;33m    ''''''Nesting: The process of placing one exception-handling routine within another. Nested routines first search for an exception handler within their scope, moving outward if not found. Exception-handling can be nested as deeply as needed to make your code safe.\u001b[0m\n\u001b[1;37m          ^\u001b[0m\n\u001b[1;31mSyntaxError\u001b[0m\u001b[1;31m:\u001b[0m invalid syntax\n"
     ]
    }
   ],
   "source": []
  },
  {
   "cell_type": "code",
   "execution_count": 8,
   "id": "c867f958",
   "metadata": {},
   "outputs": [
    {
     "name": "stdout",
     "output_type": "stream",
     "text": [
      " Enter a whole number: anjali\n",
      " enter the whole number!\n",
      " try again (y/n): nandu\n",
      "Ok, see you next time!\n"
     ]
    }
   ],
   "source": [
    "while True:\n",
    "    try:\n",
    "        a = input(\" Enter a whole number: \")\n",
    "        try:\n",
    "            b = int(a)\n",
    "            print(\"Great! You entered the whole number:\",b)\n",
    "            break  \n",
    "        except ValueError:\n",
    "            print(\" enter the whole number!\")\n",
    "            retry = input(\" try again (y/n): \").lower()\n",
    "            if retry != 'y':\n",
    "                print(\"Ok, see you next time!\")\n",
    "                break\n",
    "    except KeyboardInterrupt:\n",
    "        print(\"\\nYou pressed Ctrl+C! See you next time!\")\n",
    "        break"
   ]
  },
  {
   "cell_type": "code",
   "execution_count": null,
   "id": "27310902",
   "metadata": {},
   "outputs": [],
   "source": [
    "try:\n",
    "    a=int(input(\"Enter a number(a): \"))\n",
    "    b=int(input(\"Enter a number(b): \"))\n",
    "    c=a/b\n",
    "    d=a+b\n",
    "    print(\"try successful\")\n",
    "exception ArithmeticError:\n",
    "    print(\"arithmetic Error occured\")\n",
    "\n",
    "    "
   ]
  },
  {
   "cell_type": "code",
   "execution_count": 10,
   "id": "f4612e7d",
   "metadata": {},
   "outputs": [
    {
     "name": "stdout",
     "output_type": "stream",
     "text": [
      "Enter the age89\n",
      "executed in any condition\n"
     ]
    }
   ],
   "source": [
    "try:\n",
    "    age=int(input(\"Enter the age\"))\n",
    "    if age<0:\n",
    "        raise VlueError\n",
    "        print(f\"Age when doubled {age*2}\")\n",
    "except ValueError:\n",
    "    print(\"Age cannot be less than zero\")\n",
    "finally:\n",
    "    print(\"executed in any condition\")"
   ]
  },
  {
   "cell_type": "code",
   "execution_count": 16,
   "id": "777d7319",
   "metadata": {},
   "outputs": [
    {
     "name": "stdout",
     "output_type": "stream",
     "text": [
      "Enter value for a: 8\n",
      "Enter value for b: 6\n",
      "Division operation successful with result: 1.3333333333333333\n"
     ]
    }
   ],
   "source": [
    "class OurException(Exception):\n",
    "    def __init__(self, message):\n",
    "        self.message = message\n",
    "class UsingUserException:\n",
    "    def divide(self):\n",
    "        try:\n",
    "            a=float(input(\"Enter value for a:\"))\n",
    "            b=float(input(\"Enter value for b:\"))\n",
    "            if b==0:\n",
    "                raise OurException(\"Error: Value of b should be greater than 0, but got\", b)\n",
    "            d = a/b\n",
    "            print(\"Division operation successful with result:\",d)\n",
    "        except OurException as err:\n",
    "            print(\"Raised a User defined Exception:\",err.message)\n",
    "                    \n",
    "obj=UsingUserException()\n",
    "obj.divide()\n",
    "\n",
    "\n"
   ]
  },
  {
   "cell_type": "code",
   "execution_count": null,
   "id": "658d50a0",
   "metadata": {},
   "outputs": [],
   "source": []
  }
 ],
 "metadata": {
  "kernelspec": {
   "display_name": "Python 3 (ipykernel)",
   "language": "python",
   "name": "python3"
  },
  "language_info": {
   "codemirror_mode": {
    "name": "ipython",
    "version": 3
   },
   "file_extension": ".py",
   "mimetype": "text/x-python",
   "name": "python",
   "nbconvert_exporter": "python",
   "pygments_lexer": "ipython3",
   "version": "3.9.13"
  }
 },
 "nbformat": 4,
 "nbformat_minor": 5
}
